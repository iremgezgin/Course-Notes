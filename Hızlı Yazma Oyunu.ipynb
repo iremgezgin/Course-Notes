{
 "cells": [
  {
   "cell_type": "code",
   "execution_count": 14,
   "metadata": {},
   "outputs": [
    {
     "name": "stdout",
     "output_type": "stream",
     "text": [
      "Sina Akyol, şiir yaşamına “Su Tadında” yla başladığı günden bu yana daima okurunu da işin içine katmış, hatta okurunu şair yapacak boşluklar bırakmaya başlamıştır. Dizelerinde avazı  çıktığı kadar susması bundan. Bu suskunluk, okur için bir sağaltım süreci aynı zamanda. Akyol’u okumak; okuru besleyen, koruyan ve düşündüren bir uğraş…\n",
      "\n",
      "Paragrafı yazınız:Sina Akyol, şiir yaşamına “Su Tadında” yla başladığı günden bu yana daima okurunu da işin içine katmış, hatta okurunu şair yapacak boşluklar bırakmaya başlamıştır. Dizelerinde avazı  çıktığı kadar susması bundan. Bu suskunluk, okur için bir sağaltım süreci aynı zamanda. Akyol’u okumak; okuru besleyen, koruyan ve düşündüren bir uğraş…\n",
      "\n",
      "Paragrafı 7.44 saniyede yazdınız.\n"
     ]
    }
   ],
   "source": [
    "import time\n",
    "import random\n",
    "random=random.randint(0,9)\n",
    "a=[\"Dil, yalnızca insanlara özgü bir yetenektir. Hayvanlar da gerek ses gerek hareketler yardımıyla birbirleriyle iletişim kurar, bazıları birkaç cümle de olsa insan dilini anlamayı öğrenebilir ama insan dilini hayvan dillerinden ayıran iki temel fark vardır: İnsan dili; hayvan dilleri gibi kalıtım yoluyla değil, toplum içinde öğrenerek elde edilir. Ayrıca insan dilinin sesleri değişir ama hayvanlar hep aynı sesleri çıkarırlar. Çıkardığı sesleri, sistem hâline getirmeyi yalnızca insanlar başarmıştır.\",\n",
    "  \"Güneş balonu, bildiğimiz oyuncak balonlar gibi havayla şişiriliyor. Ancak güneş balonları bir tür güneş panelidir ve güneş ışınlarını toplayacak şekilde tasarlanmıştır. Güneş ışınlarının balonun içinde, tam merkezinde, bulunan 'güneş gözesi'ne gelmesiyle elektrik üretiliyor. Güneş gözesi, yüzeyine gelen güneş ışığını doğrudan elektrik enerjisine dönüştüren yarı iletken maddelere verilen ad. Normalde, güneş panellerinde ışığı odaklamak için alüminyum ya da camdan yararlanılıyor. Güneş balonuysa ısıya dayanıklı plastikten yapılıyor. Dahası, güneş balonları hem daha hafif hem daha ucuz hem de daha verimli. Çok güçlü rüzgârlar gibi olumsuz hava koşullarına da dayanıklı. Güneş balonları geliştiren firma, önümüzdeki yıl 10.000 güneş balonundan oluşan bir elektrik üretim çiftliği kurmayı planlıyor.\",\n",
    "  \"Nietzsche'nin gündelik hayatta en çok kabul görmüş cümlesi, 'Müziksiz bir hayat hatadır.'' olsa gerek. Gerçekten de profesyonel müzisyenler bir tarafa, sıradan bir dinleyiciyi bile alıp başka dünyalara götüren, notaların samimi vuruşuyla mutlu eden şey müziktir. İnsanoğlunun ilk bulduğu hatta iletişim aracı gibi kullandığı sanat dalı müzik olabilir mesela. Dolayısıyla müzik dinlemeyen, dinlemediğini söyleyen insanın hayatında bir şeyler eksiktir.\",\n",
    "  \"Bakterileri yok etmek üzerine çalışmalar yapan İngiliz bilim insanı Alexander Fleming, bir tatil dönüşü laboratuvarına geldiğinde içinde farklı türlerde bakteriler bulunan kabı açık unuttuğunu fark eder. Küf mantarı ile dolan kabı temizlerken mantarın kenarında bulunan jel kıvamındaki yapıda herhangi bir bakteri bulunmadığını görür. Bunun 'Penicillium Notatum' adı verilen küf mantarı olduğunu düşünür ve jöle kıvamındaki yapıya 'penisilin' adını verir. Fakat penisilini küf mantarından ayırmayı başaramadığı için çalışmalarını sonlandırır. Onun çalışmalarını inceleyen bilim insanları Howard Florey ve Ernst Chain, 1939 yılında penisilini laboratuvar ortamında saflaştırmayı başarır; 1941 yılında da ilk defa bir insan üzerinde kullanırlar. Fleming, Florey ve Chain bu çalışmalarıyla 1945 yılında Nobel Barış Ödülü'ne layık görülürler.\",\n",
    "  \"Halil İnalcık'a göre, tarih bir milletin şuuru demektir. Tarihin engin havzasında teşekkül eden bilgi, birikim ve irfanın gelecek nesillere aktarılması, kazanımların daima hayatla ilişki içinde tutulması noktasında tarih bilinci milletler için hayati önem kazanır. Tarih bilinci; bugünü anlamak, geleceği doğru tasarlamak hususunda geçmişten layıkıyla nasiplenmeyle ilgilidir. Geçmişten nasiplenmek, bir yandan da ona saplanıp kalmamayı, onu bir yöntem güncellemesi hâlinde cevhere dönüştürecek bir değer olarak görmeyi gerektirir. Tarih bilincinden söz etmeden kültürden, medeniyetten söz etmek imkânsızdır.\",\n",
    "  \"1894'te İstanbul Fatih'te doğan Ahmet Rasim'i annesi Nevbahar Hanım bir başına ve büyük zorluklara göğüs gererek büyütür. Rasim, ilkokulun ardından yoksul ve kimsesiz öğrencilere parasız eğitim veren Darüşşafakaya girer. Edebiyatla tanışması bu döneme rastlar. Kısa süre memuriyetle iştigal etse de gönlü yazmaktan yanadır. Fransızcadan yaptığı çevirilerle Ahmet Mithat Efendi'nin beğenisini kazanır. Ardından roman, deneme, fıkra türünde pek çok eser kaleme alır. Ahmet Mithat ile başlayıp Hüseyin Rahmi ile devam eden halkçı edebiyat anlayışını sürdürmeyi tercih etmiştir. Aynı zamanda ilk fıkra yazarımız olan Rasim, gazetecilik mesleğini sürdürdüğü dönemde köşe yazarlığının yerleşmesini sağlayan öncü yazarlardan biridir. Yüze yakın esere imza atan Ahmet Rasim, 'Menâkıb-ı İslâm' adlı kitabı ile II. Abdülhamit'ten 'Mecîdî Nişanı' alır. Gazeteci, tarihçi, yazar Ahmet Rasim; 1932'de Heybeliada'daki evinde 68 yaşında hayata gözlerini yumar.\",\n",
    "  \"İbn Battuta, Orta Çağ olarak bilinen ve Batı'da bilimin baskılanıp ayaklar altına alındığı karanlık dönemde, gezegen üzerinde en fazla yol kateden isimdir. Yaptığı bütün bu geziler sayesinde 'İslam Gezgini' unvanına layık görülmüştür. Yolculuğu 1325 yılında, yirmi bir yaşındayken doğum yeri olan Fas'ta başlamıştır ve tam 5000 kilometre yol kat ederek Arap Yarımadası'ndaki Mekke'ye ulaşmıştır. Ömrünün yirmi dokuz yılını alan yolculuğu boyunca Asya, Avrupa ve Afrika'da sayısız bölgeye gitmiş, toplamda 121 bin kilometre yol katetmiştir.\",\n",
    "  \"Sina Akyol, şiir yaşamına “Su Tadında” yla başladığı günden bu yana daima okurunu da işin içine katmış, hatta okurunu şair yapacak boşluklar bırakmaya başlamıştır. Dizelerinde avazı  çıktığı kadar susması bundan. Bu suskunluk, okur için bir sağaltım süreci aynı zamanda. Akyol’u okumak; okuru besleyen, koruyan ve düşündüren bir uğraş…\",\n",
    "  \"Sanat, insanoğlunun yarattığı en yüce değerdir. Çünkü bir sentezdir. Bütün çağların, bütün çağlardaki insanların akıllarının yaratışıdır. Bundan dolayı etki gücü çoktur. Toplumları bir arada tutan güç olması bundandır.\",\n",
    "  \"Huzursuz bir toplum, baskıyla huzurlu hale getirilemez. Şiddet, daha büyük şiddetleri doğurur. Akıllı yöneticiler, şiddeti reddeder. Onun yerine toplumdaki huzursuzluğun nedenini araştırır ve onu ortadan kaldır. Böylece toplumun huzuru sağlanmış olur.\"]\n",
    "print(a[random])\n",
    "ilkzaman=time.time()\n",
    "b=input(\"\\nParagrafı yazınız:\")\n",
    "if a[random]!=b:\n",
    "    print(\"Yanlış yazdınız...\")\n",
    "if a[random]==b:\n",
    "    sonzaman=time.time()\n",
    "    zaman=round(sonzaman-ilkzaman,2)\n",
    "    print(f\"\\nParagrafı {zaman} saniyede yazdınız.\")\n",
    "    \n",
    "    "
   ]
  }
 ],
 "metadata": {
  "kernelspec": {
   "display_name": "Python 3",
   "language": "python",
   "name": "python3"
  },
  "language_info": {
   "codemirror_mode": {
    "name": "ipython",
    "version": 3
   },
   "file_extension": ".py",
   "mimetype": "text/x-python",
   "name": "python",
   "nbconvert_exporter": "python",
   "pygments_lexer": "ipython3",
   "version": "3.8.5"
  }
 },
 "nbformat": 4,
 "nbformat_minor": 4
}
