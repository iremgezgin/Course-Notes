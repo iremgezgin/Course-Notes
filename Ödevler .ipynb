{
 "cells": [
  {
   "cell_type": "markdown",
   "metadata": {},
   "source": [
    "###### Gülsüm İrem Gezgin-Python Kursu Ödevleri"
   ]
  },
  {
   "cell_type": "markdown",
   "metadata": {},
   "source": [
    "### 1.Dört işlem uygulamasını yapan python programını yazınız."
   ]
  },
  {
   "cell_type": "code",
   "execution_count": 4,
   "metadata": {
    "scrolled": true
   },
   "outputs": [
    {
     "name": "stdout",
     "output_type": "stream",
     "text": [
      "Bir sayı giriniz:12\n",
      "İşlemi giriniz (+,-,/,*):/\n",
      "Bir sayı giriniz:3\n",
      "Sonuç: 4.0\n"
     ]
    }
   ],
   "source": [
    "# Fonksiyonlarla yapılırsa:\n",
    "\n",
    "a=int(input(\"Bir sayı giriniz:\"))\n",
    "c=input(\"İşlemi giriniz (+,-,/,*):\")\n",
    "b=int(input(\"Bir sayı giriniz:\"))\n",
    "\n",
    "\n",
    "def toplama(a,b):\n",
    "    print(\"Sonuç:\",a+b)\n",
    "def çıkarma(a,b):\n",
    "    print(\"Sonuç:\",a-b)\n",
    "def bölme(a,b):\n",
    "    while b==0:\n",
    "        print(\"Bölen 0'dan farklı olmalıdır.\")\n",
    "        b=int(input(\"Bir sayı giriniz:\"))\n",
    "    print(\"Sonuç:\",a/b)\n",
    "def çarpma(a,b):\n",
    "    print(\"Sonuç:\",a*b)\n",
    "\n",
    "if c==\"*\":\n",
    "    çarpma(a,b)\n",
    "elif c==\"/\":\n",
    "    bölme(a,b)\n",
    "elif c==\"+\":\n",
    "    toplama(a,b)\n",
    "elif c==\"-\":\n",
    "    çıkarma(a,b)"
   ]
  },
  {
   "cell_type": "code",
   "execution_count": 7,
   "metadata": {},
   "outputs": [
    {
     "name": "stdout",
     "output_type": "stream",
     "text": [
      "Bir sayı giriniz:12\n",
      "İşlemi giriniz (+,-,/,*):/\n",
      "Bir sayı giriniz:0\n",
      "Bölen 0'dan farklı olmalıdır.\n",
      "Bir sayı giriniz:0\n",
      "Bölen 0'dan farklı olmalıdır.\n",
      "Bir sayı giriniz:2\n",
      "Sonuç: 6.0\n"
     ]
    }
   ],
   "source": [
    "#Fonksiyon olmadan yapılırsa:\n",
    "\n",
    "a=int(input(\"Bir sayı giriniz:\"))\n",
    "c=input(\"İşlemi giriniz (+,-,/,*):\")\n",
    "b=int(input(\"Bir sayı giriniz:\"))\n",
    "\n",
    "if c==\"*\":\n",
    "    print(\"Sonuç:\",a*b)\n",
    "elif c==\"/\":\n",
    "    while b==0:\n",
    "        print(\"Bölen 0'dan farklı olmalıdır.\")\n",
    "        b=int(input(\"Bir sayı giriniz:\"))\n",
    "    print(\"Sonuç:\",a/b)\n",
    "elif c==\"+\":\n",
    "    print(\"Sonuç:\",a+b)\n",
    "elif c==\"-\":\n",
    "    print(\"Sonuç:\",a-b)\n"
   ]
  },
  {
   "cell_type": "markdown",
   "metadata": {},
   "source": [
    "### 2.Geometrik şekiller alan hesaplama yapan python programını yazınız."
   ]
  },
  {
   "cell_type": "code",
   "execution_count": 10,
   "metadata": {},
   "outputs": [
    {
     "name": "stdout",
     "output_type": "stream",
     "text": [
      "Şekli giriniz (üçgen, kare, dikdörtgen, daire):daire\n",
      "Yarıçap uzunluğunu giriniz:12\n",
      "Dairenin alanı: 452.3893421169302\n"
     ]
    }
   ],
   "source": [
    "import math\n",
    "sekil=input(\"Şekli giriniz (üçgen, kare, dikdörtgen, daire):\")\n",
    "\n",
    "if sekil==\"üçgen\":\n",
    "    a=int(input(\"Taban uzunluğunu giriniz:\"))\n",
    "    b=int(input(\"Yükseklik uzunluğunu giriniz:\"))\n",
    "    print(\"Üçgenin alanı:\",a*b/2)\n",
    "elif sekil==\"kare\":\n",
    "    a=int(input(\"Karenin kenar uzunluğunu giriniz:\"))\n",
    "    print(\"Karenin alanı:\",a**2)\n",
    "elif sekil==\"dikdörtgen\":\n",
    "    a=int(input(\"Kenar uzunluğunu giriniz:\"))\n",
    "    b=int(input(\"Kenar uzunluğunu giriniz:\"))\n",
    "    print(\"Dikdörtgenin alanı:\",a*b)\n",
    "elif sekil==\"daire\":\n",
    "    a=int(input(\"Yarıçap uzunluğunu giriniz:\"))\n",
    "    print(\"Dairenin alanı:\",a**2*math.pi)\n"
   ]
  },
  {
   "cell_type": "markdown",
   "metadata": {},
   "source": [
    "### 3.Sayı aralığını toplayan python programını yazınız."
   ]
  },
  {
   "cell_type": "code",
   "execution_count": 27,
   "metadata": {},
   "outputs": [
    {
     "name": "stdout",
     "output_type": "stream",
     "text": [
      "Bir sayı giriniz:10\n",
      "Bir sayı giriniz:5\n",
      "Aralıktaki sayıların toplamı: 30\n"
     ]
    }
   ],
   "source": [
    "#a ve b toplamaya dahil değil\n",
    "a=int(input(\"Bir sayı giriniz:\"))\n",
    "b=int(input(\"Bir sayı giriniz:\"))    \n",
    "toplam=0\n",
    "if a<b:\n",
    "    for i in range (a+1,b):\n",
    "        toplam+=i\n",
    "    print(\"Aralıktaki sayıların toplamı:\",toplam)\n",
    "elif a>b:\n",
    "    for i in range (b+1,a):\n",
    "        toplam+=i\n",
    "    print(\"Aralıktaki sayıların toplamı:\",toplam)"
   ]
  },
  {
   "cell_type": "markdown",
   "metadata": {},
   "source": [
    "### 4.1 ile100 arasındaki sayıları toplayan python programını yazınız."
   ]
  },
  {
   "cell_type": "code",
   "execution_count": 30,
   "metadata": {},
   "outputs": [
    {
     "name": "stdout",
     "output_type": "stream",
     "text": [
      "4949\n"
     ]
    }
   ],
   "source": [
    "#1 ve 100 toplamaya dahil değil\n",
    "toplam=0\n",
    "for i in range(2,100):\n",
    "    toplam+=i\n",
    "print(toplam)"
   ]
  },
  {
   "cell_type": "markdown",
   "metadata": {},
   "source": [
    "### 5.1 ile100 arasındaki çift sayıları toplayan python programını yazınız."
   ]
  },
  {
   "cell_type": "code",
   "execution_count": 31,
   "metadata": {},
   "outputs": [
    {
     "name": "stdout",
     "output_type": "stream",
     "text": [
      "2450\n"
     ]
    }
   ],
   "source": [
    "toplam=0\n",
    "for i in range(2,100):\n",
    "    if i%2==0:\n",
    "        toplam+=i\n",
    "print(toplam)"
   ]
  },
  {
   "cell_type": "markdown",
   "metadata": {},
   "source": [
    "### 6.1 ile 100 arasındaki sayıların 3 ile tam bölünenlerini ekrana yazdırınız."
   ]
  },
  {
   "cell_type": "code",
   "execution_count": 2,
   "metadata": {},
   "outputs": [
    {
     "name": "stdout",
     "output_type": "stream",
     "text": [
      "[3, 6, 9, 12, 15, 18, 21, 24, 27, 30, 33, 36, 39, 42, 45, 48, 51, 54, 57, 60, 63, 66, 69, 72, 75, 78, 81, 84, 87, 90, 93, 96, 99]\n"
     ]
    }
   ],
   "source": [
    "# for i in range(2,100):\n",
    "#     if i%3==0:\n",
    "#         print(i)\n",
    "\n",
    "numbers=[x for x in range(2,100) if x%3==0]\n",
    "print(numbers)\n"
   ]
  },
  {
   "cell_type": "markdown",
   "metadata": {},
   "source": [
    "### 7. Öğrenci geçti kaldı uygulamasını yapan python programını yazınız."
   ]
  },
  {
   "cell_type": "code",
   "execution_count": 38,
   "metadata": {},
   "outputs": [
    {
     "name": "stdout",
     "output_type": "stream",
     "text": [
      "Vize notunu giriniz:12\n",
      "Final notunu giriniz:90\n",
      "Ortalama: 66.6\n",
      "GEÇTİ\n"
     ]
    }
   ],
   "source": [
    "vize=int(input(\"Vize notunu giriniz:\"))\n",
    "final=int(input(\"Final notunu giriniz:\"))\n",
    "ort=vize*0.3+final*0.7\n",
    "print(\"Ortalama:\",ort)\n",
    "if ort>=50:\n",
    "    print(\"GEÇTİ\")\n",
    "else:\n",
    "    print(\"KALDI\")"
   ]
  },
  {
   "cell_type": "markdown",
   "metadata": {},
   "source": [
    "### 8.Girilen sayının çift tek olduğunu hesaplayan python programını yazınız."
   ]
  },
  {
   "cell_type": "code",
   "execution_count": 37,
   "metadata": {},
   "outputs": [
    {
     "name": "stdout",
     "output_type": "stream",
     "text": [
      "Bir sayı giriniz:13\n",
      "Girdiğiniz 13 sayısı tektir.\n"
     ]
    }
   ],
   "source": [
    "a=int(input(\"Bir sayı giriniz:\"))\n",
    "if a%2==0:\n",
    "    print(f\"Girdiğiniz {a} sayısı çifttir.\")\n",
    "else:\n",
    "    print(f\"Girdiğiniz {a} sayısı tektir.\")"
   ]
  },
  {
   "cell_type": "markdown",
   "metadata": {},
   "source": [
    "### 9.1 ile 20 arasındaki çift sayıları yazdıran python programını yazınız."
   ]
  },
  {
   "cell_type": "code",
   "execution_count": 4,
   "metadata": {},
   "outputs": [
    {
     "name": "stdout",
     "output_type": "stream",
     "text": [
      "[2, 4, 6, 8, 10, 12, 14, 16, 18]\n"
     ]
    }
   ],
   "source": [
    "# for i in range(2,20):\n",
    "#     if i%2==0:\n",
    "#         print(i)\n",
    "        \n",
    "numbers=[x for x in range(2,20) if x%2==0]\n",
    "print(numbers)"
   ]
  },
  {
   "cell_type": "markdown",
   "metadata": {},
   "source": [
    "### 10.Klavyeden girilen vize ve final notu hesaplama (vize%30 final%70) hesaplayan python programını yazınız."
   ]
  },
  {
   "cell_type": "code",
   "execution_count": null,
   "metadata": {},
   "outputs": [],
   "source": [
    "vize=int(input(\"Vize notunu giriniz:\"))\n",
    "final=int(input(\"Final notunu giriniz:\"))\n",
    "ort=vize*0.3+final*0.7\n",
    "print(\"Ortalama:\",ort)"
   ]
  }
 ],
 "metadata": {
  "kernelspec": {
   "display_name": "Python 3",
   "language": "python",
   "name": "python3"
  },
  "language_info": {
   "codemirror_mode": {
    "name": "ipython",
    "version": 3
   },
   "file_extension": ".py",
   "mimetype": "text/x-python",
   "name": "python",
   "nbconvert_exporter": "python",
   "pygments_lexer": "ipython3",
   "version": "3.8.5"
  }
 },
 "nbformat": 4,
 "nbformat_minor": 4
}
