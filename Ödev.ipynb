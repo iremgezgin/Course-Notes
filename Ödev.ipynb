{
 "cells": [
  {
   "cell_type": "code",
   "execution_count": 1,
   "metadata": {},
   "outputs": [
    {
     "name": "stdout",
     "output_type": "stream",
     "text": [
      "Kısa kenar uzunluğunu giriniz:\t12\n",
      "Uzun kenar uzunluğunu giriniz:\t24\n",
      "Dikdörgenin Alanı\t 288 mm2\n",
      "Dikdörgenin Çevresi\t 72 mm\n"
     ]
    }
   ],
   "source": [
    "#Klavyeden girilen dikdörtgenin alanını ve çevresini hesaplayan python programını yazınız.\n",
    "\n",
    "a = int(input(\"Kısa kenar uzunluğunu giriniz:\\t\"))\n",
    "b = int(input(\"Uzun kenar uzunluğunu giriniz:\\t\"))\n",
    "\n",
    "c = (a*b)\n",
    "d = (2*(a+b))\n",
    "\n",
    "print(\"Dikdörgenin Alanı\\t\", c,\"mm2\")\n",
    "print(\"Dikdörgenin Çevresi\\t\",d,\"mm\")"
   ]
  },
  {
   "cell_type": "code",
   "execution_count": 4,
   "metadata": {},
   "outputs": [
    {
     "name": "stdout",
     "output_type": "stream",
     "text": [
      "[7, 14, 21, 28, 35, 42, 49]\n"
     ]
    }
   ],
   "source": [
    "#1 ile 50 arasında 7 ye bölünen sayıları ekrana yazdır.\n",
    "a=1\n",
    "b=[]\n",
    "while a<50:\n",
    "    if a%7==0:\n",
    "        b.append(a)\n",
    "    a=a+1\n",
    "        \n",
    "print(b)\n",
    "    "
   ]
  },
  {
   "cell_type": "code",
   "execution_count": 12,
   "metadata": {},
   "outputs": [
    {
     "name": "stdout",
     "output_type": "stream",
     "text": [
      "Bir sayı giriniz: 12\n",
      "Bir sayı giriniz: 30\n",
      "[12, 14, 16, 18, 20, 22, 24, 26, 28]\n",
      "toplam: 56\n"
     ]
    }
   ],
   "source": [
    "#Klavyeden girilen sayı aralığı arasındaki çift sayıları ekrana yazdıran ve toplamını veren python programı yazınız\n",
    "\n",
    "sayi1=int(input(\"Bir sayı giriniz: \"))\n",
    "sayi2=int(input(\"Bir sayı giriniz: \"))\n",
    "\n",
    "b=[]\n",
    "for x in range(sayi1,sayi2,2):\n",
    "    b.append(x)\n",
    "    \n",
    "print(b)\n",
    "\n",
    "for i in range(sayi1,sayi2,2):\n",
    "    i+=i\n",
    "    \n",
    "print(\"toplam:\", i)\n"
   ]
  },
  {
   "cell_type": "code",
   "execution_count": null,
   "metadata": {},
   "outputs": [],
   "source": []
  }
 ],
 "metadata": {
  "kernelspec": {
   "display_name": "Python 3",
   "language": "python",
   "name": "python3"
  },
  "language_info": {
   "codemirror_mode": {
    "name": "ipython",
    "version": 3
   },
   "file_extension": ".py",
   "mimetype": "text/x-python",
   "name": "python",
   "nbconvert_exporter": "python",
   "pygments_lexer": "ipython3",
   "version": "3.8.5"
  }
 },
 "nbformat": 4,
 "nbformat_minor": 4
}
