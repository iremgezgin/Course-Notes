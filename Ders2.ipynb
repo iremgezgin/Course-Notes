{
 "cells": [
  {
   "cell_type": "code",
   "execution_count": 1,
   "metadata": {},
   "outputs": [
    {
     "name": "stdout",
     "output_type": "stream",
     "text": [
      "python\n"
     ]
    }
   ],
   "source": [
    "print(\"python\")"
   ]
  },
  {
   "cell_type": "code",
   "execution_count": 2,
   "metadata": {},
   "outputs": [],
   "source": [
    "#Veri Türleri\n",
    "#int:tamsayı, str:metin, float:virgüllü sayı\n",
    "#değişkenleri türkçe karaktersiz ve başında sayı olmadan yazmalısın.\n",
    "#rezerveli kelimeleri değişken olarak tanımlayamazsın\n",
    "#sayıları değişken olarak tanımlayamazsın\n",
    "#değişken tanımlarken int a=2 değil a=2 olarak tanımlayabilirsin, python a'nın integer olduğunu anlıyor.\n",
    "#aynı isimde iki değişken olmaz"
   ]
  },
  {
   "cell_type": "code",
   "execution_count": 1,
   "metadata": {},
   "outputs": [
    {
     "data": {
      "text/plain": [
       "6"
      ]
     },
     "execution_count": 1,
     "metadata": {},
     "output_type": "execute_result"
    }
   ],
   "source": [
    "4+2\n",
    "#tanımlamasan da işlemi yapar"
   ]
  },
  {
   "cell_type": "code",
   "execution_count": 2,
   "metadata": {},
   "outputs": [
    {
     "name": "stdout",
     "output_type": "stream",
     "text": [
      "5\n"
     ]
    }
   ],
   "source": [
    "print(5)\n",
    "# sayıları yazdırırken çift tırnağa gerek yok"
   ]
  },
  {
   "cell_type": "code",
   "execution_count": 5,
   "metadata": {},
   "outputs": [
    {
     "name": "stdout",
     "output_type": "stream",
     "text": [
      "Bir sayı giriniz: 10\n"
     ]
    }
   ],
   "source": [
    "sayi1=int(input(\"Bir sayı giriniz: \"))"
   ]
  },
  {
   "cell_type": "code",
   "execution_count": 20,
   "metadata": {},
   "outputs": [
    {
     "name": "stdout",
     "output_type": "stream",
     "text": [
      "Bir sayı giriniz: 43\n",
      "Bir sayı giriniz: 40\n",
      "Ortalama: 41.5\n",
      "Harf Notu: DD\n",
      "Sonuç: Geçti\n"
     ]
    }
   ],
   "source": [
    "sayi1=int(input(\"Bir sayı giriniz: \"))\n",
    "    \n",
    "sayi2=int(input(\"Bir sayı giriniz: \"))\n",
    "\n",
    "ort=(sayi1+sayi2)/2\n",
    "\n",
    "print(\"Ortalama:\", float(round(ort,3)))\n",
    "       \n",
    "if ort<39:\n",
    "    print(\"Harf Notu: FF\")\n",
    "elif ort<49:\n",
    "    print(\"Harf Notu: DD\")\n",
    "elif ort<69:\n",
    "    print(\"Harf Notu: CC\")\n",
    "elif ort>84:\n",
    "    print(\"Harf Notu: BB\")\n",
    "else:\n",
    "    print(\"Harf Notu: AA\")\n",
    "    \n",
    "if ort>39:\n",
    "    durum=\"Geçti\"\n",
    "else:\n",
    "    durum=\"Kaldı\"\n",
    "    \n",
    "print(\"Sonuç:\", durum)\n",
    "    "
   ]
  },
  {
   "cell_type": "code",
   "execution_count": 19,
   "metadata": {
    "scrolled": true
   },
   "outputs": [
    {
     "name": "stdout",
     "output_type": "stream",
     "text": [
      "Hello\n",
      "Hello\n",
      "Hello\n",
      "Hello\n",
      "Hello\n",
      "Hello\n",
      "Hello\n",
      "Hello\n",
      "Hello\n"
     ]
    }
   ],
   "source": [
    "for i in range(1,10):\n",
    "    print(\"Hello\")"
   ]
  },
  {
   "cell_type": "code",
   "execution_count": null,
   "metadata": {},
   "outputs": [],
   "source": [
    "a=30\n",
    "if (a>10, a<100):\n",
    "    print(\"B\")\n",
    "\n",
    "#İf'teki ifadeleri parantez içine yaz, birden fazla koşul yazacaksan gerekli olacak. if(.. , ..) şeklinde olmalı."
   ]
  },
  {
   "cell_type": "code",
   "execution_count": 2,
   "metadata": {},
   "outputs": [
    {
     "name": "stdout",
     "output_type": "stream",
     "text": [
      "Bir sayı giriniz: 10\n",
      "Küçük\n"
     ]
    }
   ],
   "source": [
    "a=int(input(\"Bir sayı giriniz: \"))\n",
    "\n",
    "if (a>10):\n",
    "    print(\"Büyük\")\n",
    "else:\n",
    "    print(\"Küçük\")\n",
    "    "
   ]
  },
  {
   "cell_type": "code",
   "execution_count": 9,
   "metadata": {},
   "outputs": [
    {
     "name": "stdout",
     "output_type": "stream",
     "text": [
      "Bir sayı giriniz: 3\n",
      "Bir sayı giriniz: 6\n",
      "Bir sayı giriniz: 7\n",
      "Ortalama: 5.333\n"
     ]
    }
   ],
   "source": [
    "sayi1=int(input(\"Bir sayı giriniz: \"))\n",
    "    \n",
    "sayi2=int(input(\"Bir sayı giriniz: \"))\n",
    "\n",
    "sayi3=int(input(\"Bir sayı giriniz: \"))\n",
    "    \n",
    "ort=(sayi1+sayi2+sayi3)/3\n",
    "\n",
    "print(\"Ortalama:\", float(round(ort,3)))"
   ]
  },
  {
   "cell_type": "code",
   "execution_count": 22,
   "metadata": {},
   "outputs": [
    {
     "name": "stdout",
     "output_type": "stream",
     "text": [
      "Sayı giriniz: 15\n",
      "Tamam değildir\n"
     ]
    }
   ],
   "source": [
    "a= int(input(\"Sayı giriniz: \"))\n",
    "\n",
    "if a%5==0 and a%7==0:\n",
    "    print(\"Tamamdır\")\n",
    "else:\n",
    "    print(\"Tamam değildir\")"
   ]
  },
  {
   "cell_type": "code",
   "execution_count": 29,
   "metadata": {},
   "outputs": [
    {
     "name": "stdout",
     "output_type": "stream",
     "text": [
      "Bir sayı giriniz:2\n",
      "Girilen sayı çifttir.\n"
     ]
    }
   ],
   "source": [
    "x=int(input(\"Bir sayı giriniz:\"))\n",
    "\n",
    "if(x%2==0):\n",
    "    print(\"Girilen sayı çifttir.\")\n",
    "else:\n",
    "    print(\"Girilen sayı tektir.\")\n"
   ]
  },
  {
   "cell_type": "code",
   "execution_count": 32,
   "metadata": {},
   "outputs": [
    {
     "name": "stdout",
     "output_type": "stream",
     "text": [
      "Bir sayı giriniz:6\n",
      "tam bölünür\n"
     ]
    }
   ],
   "source": [
    "x=int(input(\"Bir sayı giriniz:\"))\n",
    "\n",
    "if(x%2==0 and x%3==0):\n",
    "    print(\"tam bölünür\")\n",
    "else:\n",
    "    print(\"tam bölünmez\")\n"
   ]
  },
  {
   "cell_type": "code",
   "execution_count": 33,
   "metadata": {},
   "outputs": [
    {
     "name": "stdout",
     "output_type": "stream",
     "text": [
      "BİLİŞİM\n",
      "TEKNOLOJİLERİ\n"
     ]
    }
   ],
   "source": [
    "print(\"BİLİŞİM\\nTEKNOLOJİLERİ\")"
   ]
  },
  {
   "cell_type": "code",
   "execution_count": 34,
   "metadata": {},
   "outputs": [
    {
     "name": "stdout",
     "output_type": "stream",
     "text": [
      "BİLİŞİM\tTEKNOLOJİLERİ\n"
     ]
    }
   ],
   "source": [
    "print(\"BİLİŞİM\\tTEKNOLOJİLERİ\")"
   ]
  },
  {
   "cell_type": "code",
   "execution_count": 35,
   "metadata": {},
   "outputs": [
    {
     "name": "stdout",
     "output_type": "stream",
     "text": [
      "BİLİŞİM\n",
      " TEKNOLOJİLERİ\n"
     ]
    }
   ],
   "source": [
    "print(\"BİLİŞİM\\n\",\"TEKNOLOJİLERİ\")"
   ]
  },
  {
   "cell_type": "code",
   "execution_count": 36,
   "metadata": {},
   "outputs": [
    {
     "name": "stdout",
     "output_type": "stream",
     "text": [
      "P Y T H O N\n"
     ]
    }
   ],
   "source": [
    "print(*\"PYTHON\")"
   ]
  },
  {
   "cell_type": "code",
   "execution_count": 39,
   "metadata": {},
   "outputs": [
    {
     "name": "stdout",
     "output_type": "stream",
     "text": [
      "----------\n"
     ]
    }
   ],
   "source": [
    "print(10*\"-\")"
   ]
  },
  {
   "cell_type": "code",
   "execution_count": 1,
   "metadata": {},
   "outputs": [
    {
     "name": "stdout",
     "output_type": "stream",
     "text": [
      "Kelime giriniz: kfmd\n",
      "4\n"
     ]
    }
   ],
   "source": [
    "x=input(\"Kelime giriniz: \")\n",
    "print(len(x))"
   ]
  },
  {
   "cell_type": "code",
   "execution_count": 1,
   "metadata": {},
   "outputs": [
    {
     "name": "stdout",
     "output_type": "stream",
     "text": [
      "<class 'int'>\n"
     ]
    }
   ],
   "source": [
    "print(type(5))"
   ]
  },
  {
   "cell_type": "code",
   "execution_count": 2,
   "metadata": {},
   "outputs": [
    {
     "name": "stdout",
     "output_type": "stream",
     "text": [
      "<class 'str'>\n"
     ]
    }
   ],
   "source": [
    "print(type(\"python\"))"
   ]
  },
  {
   "cell_type": "code",
   "execution_count": 16,
   "metadata": {},
   "outputs": [
    {
     "name": "stdout",
     "output_type": "stream",
     "text": [
      "Bir sayı giriniz: 4\n",
      "Bir sayı giriniz: 5\n",
      "1. sayı: 4 \n",
      "2. sayı 5\n",
      "Toplam: 9 \n",
      "Çarpım: 20 \n",
      "Bölüm: 0.8\n"
     ]
    }
   ],
   "source": [
    "sayi1=int(input(\"Bir sayı giriniz: \"))\n",
    "    \n",
    "sayi2=int(input(\"Bir sayı giriniz: \"))\n",
    "\n",
    "toplam=sayi1+sayi2\n",
    "çarpım=sayi1*sayi2\n",
    "bölüm=sayi1/sayi2\n",
    "\n",
    "print(\"1. sayı:\", sayi1,\"\\n2. sayı\", sayi2)\n",
    "print(\"Toplam:\", toplam, \"\\nÇarpım:\", çarpım,\"\\nBölüm:\", bölüm)"
   ]
  }
 ],
 "metadata": {
  "kernelspec": {
   "display_name": "Python 3",
   "language": "python",
   "name": "python3"
  },
  "language_info": {
   "codemirror_mode": {
    "name": "ipython",
    "version": 3
   },
   "file_extension": ".py",
   "mimetype": "text/x-python",
   "name": "python",
   "nbconvert_exporter": "python",
   "pygments_lexer": "ipython3",
   "version": "3.8.5"
  }
 },
 "nbformat": 4,
 "nbformat_minor": 4
}
