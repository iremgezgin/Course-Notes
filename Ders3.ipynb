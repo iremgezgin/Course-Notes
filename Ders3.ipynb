{
 "cells": [
  {
   "cell_type": "markdown",
   "metadata": {},
   "source": [
    "# Format"
   ]
  },
  {
   "cell_type": "code",
   "execution_count": 3,
   "metadata": {},
   "outputs": [
    {
     "name": "stdout",
     "output_type": "stream",
     "text": [
      "Bir sayı giriniz: 12\n",
      "Bir sayı giriniz: 11\n",
      "12 çarpı 11 , 132 eder.\n"
     ]
    }
   ],
   "source": [
    "sayi1=int(input(\"Bir sayı giriniz: \"))\n",
    "sayi2=int(input(\"Bir sayı giriniz: \"))\n",
    "sonuc=sayi1*sayi2\n",
    "\n",
    "print(\"{} çarpı {} , {} eder.\".format(sayi1,sayi2,sonuc))"
   ]
  },
  {
   "cell_type": "markdown",
   "metadata": {},
   "source": [
    "# Sayı tek mi çift mi?"
   ]
  },
  {
   "cell_type": "code",
   "execution_count": 5,
   "metadata": {},
   "outputs": [
    {
     "name": "stdout",
     "output_type": "stream",
     "text": [
      "Bir sayı giriniz: 13\n",
      "13 sayısı tektir\n"
     ]
    }
   ],
   "source": [
    "sayi1=int(input(\"Bir sayı giriniz: \"))\n",
    "if sayi1%2==0:\n",
    "    print(\"{} sayısı çifttir\".format(sayi1))\n",
    "else:\n",
    "    print(\"{} sayısı tektir\".format(sayi1))    "
   ]
  },
  {
   "cell_type": "markdown",
   "metadata": {},
   "source": [
    "# Round"
   ]
  },
  {
   "cell_type": "code",
   "execution_count": 10,
   "metadata": {},
   "outputs": [
    {
     "name": "stdout",
     "output_type": "stream",
     "text": [
      "Vize notunu giriniz:\t33\n",
      "Final notunu giriniz:\t1\n",
      "Kaldı\n",
      "Ortalama:  13\n",
      "Öğrencinin vize notu 33, ve final notu 1 ve ortalaması 13.\n"
     ]
    }
   ],
   "source": [
    "vize = int(input(\"Vize notunu giriniz:\\t\"))\n",
    "final = int(input(\"Final notunu giriniz:\\t\"))\n",
    "\n",
    "ort = int(vize*0.4 + final*0.6)\n",
    "\n",
    "if (ort > 49):\n",
    "    print(\"Geçti\")\n",
    "else:\n",
    "    print(\"Kaldı\")\n",
    "    \n",
    "print(\"Ortalama: \",round(ort,2))\n",
    "\n",
    "print(\"Öğrencinin vize notu {}, ve final notu {} ve ortalaması {}.\".format(vize,final,ort))"
   ]
  },
  {
   "cell_type": "code",
   "execution_count": 1,
   "metadata": {},
   "outputs": [
    {
     "name": "stdout",
     "output_type": "stream",
     "text": [
      "Öğrencinin ismi\tİrem\n",
      "Vize notunu giriniz:\t55\n",
      "Final notunu giriniz:\t90\n",
      "Öğrencinin ismi İrem \n",
      "Ortalaması 72.5\n",
      "\n",
      "GEÇTİ \n",
      "HARF NOTU: BB\n"
     ]
    }
   ],
   "source": [
    "isim = input(\"Öğrencinin ismi\\t\")\n",
    "vize = int(input(\"Vize notunu giriniz:\\t\"))\n",
    "final = int(input(\"Final notunu giriniz:\\t\"))\n",
    "\n",
    "\n",
    "ort = (vize+final)/2\n",
    "print(\"Öğrencinin ismi {} \\nOrtalaması {}\".format(isim,ort))\n",
    "if ort > 85:\n",
    "    print(\"\\nGEÇTİ \\nHARF NOTU: AA\")\n",
    "elif ort > 70:\n",
    "    print(\"\\nGEÇTİ \\nHARF NOTU: BB\")\n",
    "elif ort > 55:\n",
    "    print(\"\\nGEÇTİ \\nHARF NOTU: CC\")\n",
    "else:\n",
    "    print(\"\\nKALDI \\nHARF NOTU: FF\")"
   ]
  },
  {
   "cell_type": "markdown",
   "metadata": {},
   "source": [
    "# Liste oluşturma ve yazdırma"
   ]
  },
  {
   "cell_type": "code",
   "execution_count": 5,
   "metadata": {},
   "outputs": [
    {
     "name": "stdout",
     "output_type": "stream",
     "text": [
      "2 python\n",
      "4 python\n",
      "6 python\n",
      "8 python\n",
      "10 python\n"
     ]
    }
   ],
   "source": [
    "sayilar = [1,2,3,4,5]\n",
    "for x in sayilar:\n",
    "    print(x*2,\"python\")"
   ]
  },
  {
   "cell_type": "code",
   "execution_count": 7,
   "metadata": {},
   "outputs": [
    {
     "name": "stdout",
     "output_type": "stream",
     "text": [
      "0\n",
      "5\n",
      "10\n",
      "15\n",
      "20\n",
      "25\n",
      "30\n",
      "35\n",
      "40\n",
      "45\n"
     ]
    }
   ],
   "source": [
    "for x in range(0,50,5):\n",
    "    print(x)"
   ]
  },
  {
   "cell_type": "code",
   "execution_count": 8,
   "metadata": {},
   "outputs": [
    {
     "name": "stdout",
     "output_type": "stream",
     "text": [
      "12\n",
      "14\n",
      "16\n",
      "18\n"
     ]
    }
   ],
   "source": [
    "sayi=[2,4,6,8,10,12,14,16,18]\n",
    "\n",
    "for x in sayi:\n",
    "    if(x>10):\n",
    "        print(x)"
   ]
  },
  {
   "cell_type": "code",
   "execution_count": 9,
   "metadata": {},
   "outputs": [
    {
     "name": "stdout",
     "output_type": "stream",
     "text": [
      "4\n",
      "6\n",
      "8\n"
     ]
    }
   ],
   "source": [
    "sayi=[1,2,3,4,5,6,7,8]\n",
    "\n",
    "for x in sayi:\n",
    "    if(x>3):\n",
    "        if(x%2==0):\n",
    "            print(x)"
   ]
  },
  {
   "cell_type": "code",
   "execution_count": 10,
   "metadata": {},
   "outputs": [
    {
     "name": "stdout",
     "output_type": "stream",
     "text": [
      "Kalan saati giriniz:2\n",
      "Kalan dakikayı giriniz:12\n",
      "Kalan saniyeyi giriniz:30\n",
      "2 saat, 12 dakika ve 30 saniye --> 7950 saniyeye eşittir \n"
     ]
    }
   ],
   "source": [
    "kalan_saat=int(input(\"Kalan saati giriniz:\"))\n",
    "kalan_dakika=int(input(\"Kalan dakikayı giriniz:\"))\n",
    "kalan_saniye=int(input(\"Kalan saniyeyi giriniz:\"))\n",
    "\n",
    "saniye=kalan_saat*3600 + kalan_dakika*60 + kalan_saniye\n",
    "\n",
    "print(\"{} saat, {} dakika ve {} saniye --> toplam {} saniyeye eşittir \".format(kalan_saat,kalan_dakika,kalan_saniye,saniye))"
   ]
  },
  {
   "cell_type": "code",
   "execution_count": 14,
   "metadata": {},
   "outputs": [
    {
     "name": "stdout",
     "output_type": "stream",
     "text": [
      "Birinci Sayiyi Giriniz:12\n",
      "ikinci Sayiyi Giriniz:20\n",
      "12\n",
      "14\n",
      "16\n",
      "18\n",
      "çift sayiların toplamı 60\n"
     ]
    }
   ],
   "source": [
    "toplam = 0\n",
    "sayi1 = int(input(\"Birinci Sayiyi Giriniz:\"))\n",
    "sayi2 = int(input(\"ikinci Sayiyi Giriniz:\"))\n",
    "for x in range(sayi1,sayi2):\n",
    "    if x%2==0:\n",
    "        print(x)\n",
    "        toplam+=x\n",
    "print(\"çift sayiların toplamı\",toplam)"
   ]
  },
  {
   "cell_type": "markdown",
   "metadata": {},
   "source": [
    "# Break ve Continue"
   ]
  },
  {
   "cell_type": "code",
   "execution_count": 4,
   "metadata": {},
   "outputs": [
    {
     "name": "stdout",
     "output_type": "stream",
     "text": [
      "1\n",
      "3\n",
      "5\n",
      "7\n",
      "9\n",
      "11\n"
     ]
    }
   ],
   "source": [
    "# x'in 12'den büyük olması durumunda devam etme.\n",
    "for x in range(0,20):\n",
    "    if (x>12):\n",
    "        break\n",
    "        \n",
    "# x'in çift olması durumunda devam et.    \n",
    "    if (x%2==0):\n",
    "        continue\n",
    "    print(x)"
   ]
  }
 ],
 "metadata": {
  "kernelspec": {
   "display_name": "Python 3",
   "language": "python",
   "name": "python3"
  },
  "language_info": {
   "codemirror_mode": {
    "name": "ipython",
    "version": 3
   },
   "file_extension": ".py",
   "mimetype": "text/x-python",
   "name": "python",
   "nbconvert_exporter": "python",
   "pygments_lexer": "ipython3",
   "version": "3.8.5"
  }
 },
 "nbformat": 4,
 "nbformat_minor": 4
}
