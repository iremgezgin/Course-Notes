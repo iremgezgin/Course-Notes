{
 "cells": [
  {
   "cell_type": "code",
   "execution_count": 2,
   "metadata": {},
   "outputs": [
    {
     "name": "stdout",
     "output_type": "stream",
     "text": [
      "Bir programlama dili ekleyiniz:AA\n",
      "['AA', 'C', 'C#', 'C++']\n"
     ]
    }
   ],
   "source": [
    "#SIRALAMA\n",
    "liste = [\"C\", \"C++\", \"C#\"]\n",
    "ekle=input(\"Bir programlama dili ekleyiniz:\")\n",
    "ekle=liste.append(ekle)\n",
    "liste.sort(reverse=False)\n",
    "print(liste)"
   ]
  },
  {
   "cell_type": "code",
   "execution_count": 14,
   "metadata": {},
   "outputs": [
    {
     "name": "stdout",
     "output_type": "stream",
     "text": [
      "Bir sayı ekleyiniz:4\n",
      "[3, 4, 6, 9]\n"
     ]
    }
   ],
   "source": [
    "#KÜÇÜKTEN BÜYÜĞE\n",
    "liste = [3,9,6]\n",
    "ekle=liste.append(int(input(\"Bir sayı ekleyiniz:\")))\n",
    "liste.sort(reverse=False)\n",
    "print(liste)\n"
   ]
  },
  {
   "cell_type": "code",
   "execution_count": 1,
   "metadata": {},
   "outputs": [
    {
     "name": "stdout",
     "output_type": "stream",
     "text": [
      "Bir sayı ekleyiniz:2\n",
      "[9, 6, 3, 2]\n"
     ]
    }
   ],
   "source": [
    "#BÜYÜKTEN KÜÇÜĞE\n",
    "liste = [3,9,6]\n",
    "ekle=liste.append(int(input(\"Bir sayı ekleyiniz:\")))\n",
    "liste.sort(reverse=True)\n",
    "print(liste)\n"
   ]
  },
  {
   "cell_type": "code",
   "execution_count": 12,
   "metadata": {},
   "outputs": [
    {
     "name": "stdout",
     "output_type": "stream",
     "text": [
      "Bir sayı ekleyiniz:1\n",
      "Bir sayı ekleyiniz:2\n",
      "Bir sayı ekleyiniz:3\n",
      "Bir sayı ekleyiniz:4\n",
      "Bir sayı ekleyiniz:5\n",
      "[1, 2, 3, 4, 5]\n",
      "Çift sayılar:\n",
      "2\n",
      "4\n"
     ]
    }
   ],
   "source": [
    "liste=[]\n",
    "\n",
    "for i in range(1,6):\n",
    "    liste.append(int(input(\"Bir sayı ekleyiniz:\")))\n",
    "print(liste)\n",
    "\n",
    "print(\"Çift sayılar:\")\n",
    "for a in range(0,5):\n",
    "    if liste[a]%2==0:\n",
    "        print(liste[a])\n",
    "\n",
    "    \n",
    "    "
   ]
  },
  {
   "cell_type": "code",
   "execution_count": 1,
   "metadata": {},
   "outputs": [
    {
     "name": "stdout",
     "output_type": "stream",
     "text": [
      "İsminizi giriniz: irem\n",
      "i\n",
      "r\n",
      "e\n",
      "m\n"
     ]
    }
   ],
   "source": [
    "#kelimenin haflerini sıralayınız.\n",
    "isim=input(\"İsminizi giriniz: \")\n",
    "sayac=0\n",
    "a=[]\n",
    "while sayac<len(isim):\n",
    "    print(isim[sayac])\n",
    "    sayac+=1"
   ]
  },
  {
   "cell_type": "code",
   "execution_count": null,
   "metadata": {},
   "outputs": [],
   "source": [
    "#Ders5: Fonksiyonlar\n",
    "#Ders6: Örnek çözümü\n",
    "#Ders7: Modüller\n",
    "#Ders8:Setup + Veri Tabanı\n",
    "#Ders9:Sınav\n",
    "#Ders10: Ödev"
   ]
  },
  {
   "cell_type": "code",
   "execution_count": 24,
   "metadata": {},
   "outputs": [
    {
     "name": "stdout",
     "output_type": "stream",
     "text": [
      "Bir sayı giriniz: 2\n",
      "Bir sayı giriniz: 5\n",
      "İşlemi giriniz:+\n",
      "7\n"
     ]
    }
   ],
   "source": [
    "sayi1=int(input(\"Bir sayı giriniz: \"))\n",
    "    \n",
    "sayi2=int(input(\"Bir sayı giriniz: \"))\n",
    "\n",
    "a=input(\"İşlemi giriniz:\")\n",
    "\n",
    "if a==\"x\":\n",
    "    b=sayi1*sayi2\n",
    "elif a==\"/\":\n",
    "    b=sayi1/sayi2\n",
    "elif a==\"+\":\n",
    "    b=sayi1+sayi2\n",
    "elif a==\"-\":\n",
    "    b=sayi1-sayi2\n",
    "    \n",
    "print(b)\n",
    "\n",
    "#Bunu fonksiyonlarla yaz."
   ]
  },
  {
   "cell_type": "code",
   "execution_count": 23,
   "metadata": {},
   "outputs": [
    {
     "name": "stdout",
     "output_type": "stream",
     "text": [
      "Bir sayı giriniz: 3\n",
      "9\n"
     ]
    }
   ],
   "source": [
    "sayi=int(input(\"Bir sayı giriniz: \"))\n",
    "def kare():\n",
    "    kar=sayi*sayi\n",
    "    print(kar)\n",
    "\n",
    "kare()\n"
   ]
  },
  {
   "cell_type": "code",
   "execution_count": null,
   "metadata": {},
   "outputs": [],
   "source": [
    "sayi1=int(input(\"Bir sayı giriniz: \")) \n",
    "sayi2=int(input(\"Bir sayı giriniz: \"))\n",
    "print(\"İşlem seçiniz + - / *\")\n",
    "\n",
    "topla=sayi1+sayi2\n",
    "print(\"Toplama sonucu:\", topla)"
   ]
  },
  {
   "cell_type": "code",
   "execution_count": 27,
   "metadata": {},
   "outputs": [
    {
     "name": "stdout",
     "output_type": "stream",
     "text": [
      "Bir sayı giriniz: 3\n",
      "Bir sayı giriniz: 5\n",
      "İşlemi giriniz:x\n",
      "15\n"
     ]
    }
   ],
   "source": [
    "sayi1=int(input(\"Bir sayı giriniz: \"))\n",
    "    \n",
    "sayi2=int(input(\"Bir sayı giriniz: \"))\n",
    "\n",
    "a=input(\"İşlemi giriniz:\")\n",
    "\n",
    "def toplama():\n",
    "    c=sayi1+sayi2\n",
    "    print(c)\n",
    "def çıkarma():\n",
    "    c=sayi1-sayi2\n",
    "    print(c)\n",
    "def çarpma():\n",
    "    c=sayi1*sayi2\n",
    "    print(c)\n",
    "def bölme():\n",
    "    c=sayi1/sayi2\n",
    "    print(c)\n",
    "    \n",
    "if a==\"x\":\n",
    "    çarpma()\n",
    "elif a==\"/\":\n",
    "    bölme()\n",
    "elif a==\"+\":\n",
    "    toplama()\n",
    "elif a==\"-\":\n",
    "    çıkarma()\n",
    "\n",
    "\n",
    "    "
   ]
  },
  {
   "cell_type": "code",
   "execution_count": null,
   "metadata": {},
   "outputs": [],
   "source": []
  }
 ],
 "metadata": {
  "kernelspec": {
   "display_name": "Python 3",
   "language": "python",
   "name": "python3"
  },
  "language_info": {
   "codemirror_mode": {
    "name": "ipython",
    "version": 3
   },
   "file_extension": ".py",
   "mimetype": "text/x-python",
   "name": "python",
   "nbconvert_exporter": "python",
   "pygments_lexer": "ipython3",
   "version": "3.8.5"
  }
 },
 "nbformat": 4,
 "nbformat_minor": 4
}
