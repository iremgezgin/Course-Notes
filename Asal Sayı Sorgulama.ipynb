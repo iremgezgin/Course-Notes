{
 "cells": [
  {
   "cell_type": "markdown",
   "metadata": {},
   "source": [
    "#### Klavyeden girilen sayının asal olup olmadığını kontrol eder."
   ]
  },
  {
   "cell_type": "code",
   "execution_count": 22,
   "metadata": {},
   "outputs": [
    {
     "name": "stdout",
     "output_type": "stream",
     "text": [
      "Bir sayı giriniz:24\n",
      "24 sayısı asal değildir, [2, 3, 4, 6, 8, 12] sayılarına bölünür.\n"
     ]
    }
   ],
   "source": [
    "a=int(input(\"Bir sayı giriniz: \"))\n",
    "b=0\n",
    "c=[]\n",
    "for i in range(2,a):\n",
    "    if a%i==0:\n",
    "        c.append(i)\n",
    "        b+=1\n",
    "if b>0:\n",
    "    print(f\"{a} sayısı asal değildir,\",c,\"sayılarına bölünür.\")\n",
    "else:\n",
    "    print(f\"{a} sayısı asaldır.\")\n",
    "    "
   ]
  },
  {
   "cell_type": "markdown",
   "metadata": {},
   "source": [
    "#### Belirlenen aralık arasındaki asal sayıları yazar. "
   ]
  },
  {
   "cell_type": "code",
   "execution_count": 3,
   "metadata": {},
   "outputs": [
    {
     "name": "stdout",
     "output_type": "stream",
     "text": [
      "Bir sayı giriniz: 10\n",
      "Bir sayı giriniz: 50\n",
      "Girilen aralıktaki asal sayılar:  [11, 13, 17, 19, 23, 29, 31, 37, 41, 43, 47]\n"
     ]
    }
   ],
   "source": [
    "a=int(input(\"Bir sayı giriniz: \"))\n",
    "b=int(input(\"Bir sayı giriniz: \"))\n",
    "c=[]\n",
    "e=[]\n",
    "for i in range(a,b+1):\n",
    "    d=0\n",
    "    for j in range(2,b+1):\n",
    "        if i%j==0:\n",
    "            c.append(i)\n",
    "            d+=1\n",
    "for k in c:\n",
    "    if c.count(k)==1:\n",
    "        e.append(k)\n",
    "print(\"Girilen aralıktaki asal sayılar: \",e)"
   ]
  },
  {
   "cell_type": "code",
   "execution_count": null,
   "metadata": {},
   "outputs": [],
   "source": []
  }
 ],
 "metadata": {
  "kernelspec": {
   "display_name": "Python 3",
   "language": "python",
   "name": "python3"
  },
  "language_info": {
   "codemirror_mode": {
    "name": "ipython",
    "version": 3
   },
   "file_extension": ".py",
   "mimetype": "text/x-python",
   "name": "python",
   "nbconvert_exporter": "python",
   "pygments_lexer": "ipython3",
   "version": "3.8.5"
  }
 },
 "nbformat": 4,
 "nbformat_minor": 4
}
