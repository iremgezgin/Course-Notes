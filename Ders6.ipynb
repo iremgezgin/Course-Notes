{
 "cells": [
  {
   "cell_type": "markdown",
   "metadata": {},
   "source": [
    "# Sayı Aralığı"
   ]
  },
  {
   "cell_type": "code",
   "execution_count": 3,
   "metadata": {},
   "outputs": [
    {
     "name": "stdout",
     "output_type": "stream",
     "text": [
      "Bir sayı giriniz:102\n",
      "Yanlış giriş!\n"
     ]
    }
   ],
   "source": [
    "vize=int(input(\"Bir sayı giriniz:\"))\n",
    "if vize<0 or vize>100:\n",
    "    print(\"Yanlış giriş!\")\n",
    "else:\n",
    "    print(\"Girilen sayı 0-100 arasında.\")"
   ]
  },
  {
   "cell_type": "markdown",
   "metadata": {},
   "source": [
    "# Sıfıra Bölünmez Hatası"
   ]
  },
  {
   "cell_type": "code",
   "execution_count": 2,
   "metadata": {},
   "outputs": [
    {
     "name": "stdout",
     "output_type": "stream",
     "text": [
      "Bölünecek sayıyı giriniz:10\n",
      "Bölecek sayıyı giriniz:8\n",
      "Bölüm: 1.25\n"
     ]
    }
   ],
   "source": [
    "sayi1=int(input(\"Bölünecek sayıyı giriniz:\"))\n",
    "sayi2=int(input(\"Bölecek sayıyı giriniz:\"))\n",
    "\n",
    "#Hatayı almamak için:-----------------------\n",
    "if sayi2==0:\n",
    "    print(\"\\nBÖLECEK SAYI 0 OLAMAZ!\")\n",
    "    while sayi2==0:\n",
    "        sayi2=int(input(\"Bölecek sayıyı giriniz:\"))\n",
    "#--------------------------------------------\n",
    "bol=sayi1/sayi2\n",
    "print(\"Bölüm:\",bol)"
   ]
  },
  {
   "cell_type": "markdown",
   "metadata": {},
   "source": [
    "# SyntaxError"
   ]
  },
  {
   "cell_type": "code",
   "execution_count": 5,
   "metadata": {},
   "outputs": [
    {
     "ename": "SyntaxError",
     "evalue": "invalid syntax (<ipython-input-5-44a6f31a4150>, line 2)",
     "output_type": "error",
     "traceback": [
      "\u001b[1;36m  File \u001b[1;32m\"<ipython-input-5-44a6f31a4150>\"\u001b[1;36m, line \u001b[1;32m2\u001b[0m\n\u001b[1;33m    if sayi1>0\u001b[0m\n\u001b[1;37m              ^\u001b[0m\n\u001b[1;31mSyntaxError\u001b[0m\u001b[1;31m:\u001b[0m invalid syntax\n"
     ]
    }
   ],
   "source": [
    "sayi1=int(input(\"Bölünecek sayıyı giriniz:\"))\n",
    "if sayi1>0\n",
    "    print(\"Yanlış!\")"
   ]
  },
  {
   "cell_type": "markdown",
   "metadata": {},
   "source": [
    "# Not Hesaplama"
   ]
  },
  {
   "cell_type": "code",
   "execution_count": 3,
   "metadata": {},
   "outputs": [
    {
     "name": "stdout",
     "output_type": "stream",
     "text": [
      "Vize notu giriniz:44\n",
      "Final notu giriniz:22\n",
      "Ortalama notu: 28.6\n"
     ]
    }
   ],
   "source": [
    "vize=int(input(\"Vize notu giriniz:\"))\n",
    "final=int(input(\"Final notu giriniz:\"))\n",
    "ort=float(vize*0.3+final*0.7)\n",
    "ort1=round(ort,2)\n",
    "print(f\"Ortalama notu: {ort1}\")"
   ]
  },
  {
   "cell_type": "markdown",
   "metadata": {},
   "source": [
    "# Rastgele Harf"
   ]
  },
  {
   "cell_type": "code",
   "execution_count": 13,
   "metadata": {},
   "outputs": [
    {
     "name": "stdout",
     "output_type": "stream",
     "text": [
      "Random: g 7 6 $\n"
     ]
    }
   ],
   "source": [
    "import random\n",
    "i=random.randint(0,29) #sınavda çıkar\n",
    "l=random.randint(0,6)\n",
    "k=random.randint(0,9)\n",
    "j=random.randint(0,9)\n",
    "a=[\"a\",\"b\",\"c\",\"ç\",\"d\",\"e\",\"f\",\"g\",\"ğ\",\"h\",\"ı\",\"i\",\"j\",\"k\",\"l\",\"m\",\"n\",\"o\",\"ö\",\"p\",\"r\",\"s\",\"ş\",\"t\",\"u\",\"ü\",\"v\",\"y\",\"z\"]\n",
    "b=[\"-\",\"+\",\"!\",\"$\",\"%\",\"=\",\"*\"]\n",
    "print(\"Random:\",a[i],k,j,b[l])"
   ]
  },
  {
   "cell_type": "code",
   "execution_count": 14,
   "metadata": {},
   "outputs": [],
   "source": [
    "#SQL bir sorgulama dili sınavda çıkacak\n",
    "#random.randint de çıkacak\n"
   ]
  },
  {
   "cell_type": "markdown",
   "metadata": {},
   "source": [
    "# Hazır Fonksiyonlar"
   ]
  },
  {
   "cell_type": "code",
   "execution_count": 19,
   "metadata": {},
   "outputs": [
    {
     "name": "stdout",
     "output_type": "stream",
     "text": [
      "********** Matematiksel Fonksiyonlar **********\n",
      "Bir sayı giriniz:3\n",
      "SAYININ KARESİ: 9\n",
      "SAYININ KÜPÜ: 27\n",
      "SAYININ KÖKÜ: 1.73\n"
     ]
    }
   ],
   "source": [
    "print(10*\"*\",\"Matematiksel Fonksiyonlar\",10*\"*\")\n",
    "x=int(input(\"Bir sayı giriniz:\"))\n",
    "karesi=x*x\n",
    "kup=x*x*x\n",
    "kok=x**0.5\n",
    "print(\"SAYININ KARESİ:\",karesi)\n",
    "print(\"SAYININ KÜPÜ:\", kup)\n",
    "print(\"SAYININ KÖKÜ:\", round(kok,2))"
   ]
  },
  {
   "cell_type": "code",
   "execution_count": 27,
   "metadata": {},
   "outputs": [
    {
     "name": "stdout",
     "output_type": "stream",
     "text": [
      "Bir sayı giriniz:-3\n",
      "3.0\n"
     ]
    }
   ],
   "source": [
    "import math\n",
    "x=int(input(\"Bir sayı giriniz:\"))\n",
    "print(math.fabs(x))"
   ]
  },
  {
   "cell_type": "code",
   "execution_count": null,
   "metadata": {},
   "outputs": [],
   "source": []
  }
 ],
 "metadata": {
  "kernelspec": {
   "display_name": "Python 3",
   "language": "python",
   "name": "python3"
  },
  "language_info": {
   "codemirror_mode": {
    "name": "ipython",
    "version": 3
   },
   "file_extension": ".py",
   "mimetype": "text/x-python",
   "name": "python",
   "nbconvert_exporter": "python",
   "pygments_lexer": "ipython3",
   "version": "3.8.5"
  }
 },
 "nbformat": 4,
 "nbformat_minor": 4
}
