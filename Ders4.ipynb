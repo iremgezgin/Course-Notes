{
 "cells": [
  {
   "cell_type": "code",
   "execution_count": 3,
   "metadata": {},
   "outputs": [
    {
     "name": "stdout",
     "output_type": "stream",
     "text": [
      "1\n",
      "2\n",
      "3\n",
      "4\n",
      "5\n",
      "6\n",
      "7\n",
      "8\n",
      "9\n",
      "10\n"
     ]
    }
   ],
   "source": [
    "# 1'den 10'a kadar yazdır. (range)\n",
    "\n",
    "for x in range(1,11):\n",
    "    print(x)"
   ]
  },
  {
   "cell_type": "code",
   "execution_count": 1,
   "metadata": {},
   "outputs": [
    {
     "name": "stdout",
     "output_type": "stream",
     "text": [
      "1\n",
      "2\n",
      "3\n",
      "4\n",
      "5\n"
     ]
    }
   ],
   "source": [
    "# 1'den 5'e kadar while döngüsü ile yazdır.\n",
    "x=1\n",
    "while (x<6):\n",
    "    print(x)\n",
    "    x+=1"
   ]
  },
  {
   "cell_type": "code",
   "execution_count": 4,
   "metadata": {},
   "outputs": [
    {
     "name": "stdout",
     "output_type": "stream",
     "text": [
      "1\n",
      "2\n",
      "3\n",
      "4\n",
      "5\n"
     ]
    }
   ],
   "source": [
    "liste=[1,2,3,4,5]\n",
    "for x in liste:\n",
    "    print(x)"
   ]
  },
  {
   "cell_type": "code",
   "execution_count": 5,
   "metadata": {},
   "outputs": [
    {
     "name": "stdout",
     "output_type": "stream",
     "text": [
      "Bir sayı giriniz: 12\n",
      "Bir sayı giriniz: 50\n",
      "toplam: 96\n"
     ]
    }
   ],
   "source": [
    "#Soru1. Klavyeden girilen sayı aralığında çift olanları toplayan python programını yaz.\n",
    "sayi1=int(input(\"Bir sayı giriniz: \"))\n",
    "sayi2=int(input(\"Bir sayı giriniz: \"))\n",
    "\n",
    "for i in range(sayi1,sayi2,2):\n",
    "    i+=i\n",
    "    \n",
    "print(\"toplam:\", i)"
   ]
  },
  {
   "cell_type": "code",
   "execution_count": 9,
   "metadata": {},
   "outputs": [
    {
     "name": "stdout",
     "output_type": "stream",
     "text": [
      "listedeki 3. eleman: 5\n"
     ]
    }
   ],
   "source": [
    "sayilar = [1,3,5,7,9,10]\n",
    "print(\"listedeki 3. eleman:\", sayilar[2])"
   ]
  },
  {
   "cell_type": "code",
   "execution_count": 12,
   "metadata": {},
   "outputs": [
    {
     "name": "stdout",
     "output_type": "stream",
     "text": [
      "Bir programlama dili ekleyiniz:a\n",
      "['C', 'C++', 'C#', 'a']\n"
     ]
    }
   ],
   "source": [
    "liste = [\"C\", \"C++\", \"C#\"]\n",
    "ekle=input(\"Bir programlama dili ekleyiniz:\")\n",
    "ekle=liste.append(ekle)\n",
    "print(liste)"
   ]
  },
  {
   "cell_type": "code",
   "execution_count": 2,
   "metadata": {},
   "outputs": [
    {
     "name": "stdout",
     "output_type": "stream",
     "text": [
      "Bir programlama dili siliniz:C\n",
      "['C++', 'C#']\n"
     ]
    }
   ],
   "source": [
    "liste = [\"C\", \"C++\", \"C#\"]\n",
    "sil=input(\"Bir programlama dili siliniz:\")\n",
    "sil=liste.remove(sil)\n",
    "print(liste)"
   ]
  },
  {
   "cell_type": "code",
   "execution_count": 3,
   "metadata": {},
   "outputs": [
    {
     "name": "stdout",
     "output_type": "stream",
     "text": [
      "Bir programlama dili ekleyiniz:PY\n",
      "['C', 'C#', 'C++', 'PY']\n"
     ]
    }
   ],
   "source": [
    "liste = [\"C\", \"C++\", \"C#\"]\n",
    "ekle=input(\"Bir programlama dili ekleyiniz:\")\n",
    "ekle=liste.append(ekle)\n",
    "liste.sort(reverse=False)\n",
    "print(liste)"
   ]
  },
  {
   "cell_type": "code",
   "execution_count": null,
   "metadata": {},
   "outputs": [],
   "source": []
  }
 ],
 "metadata": {
  "kernelspec": {
   "display_name": "Python 3",
   "language": "python",
   "name": "python3"
  },
  "language_info": {
   "codemirror_mode": {
    "name": "ipython",
    "version": 3
   },
   "file_extension": ".py",
   "mimetype": "text/x-python",
   "name": "python",
   "nbconvert_exporter": "python",
   "pygments_lexer": "ipython3",
   "version": "3.8.5"
  }
 },
 "nbformat": 4,
 "nbformat_minor": 4
}
