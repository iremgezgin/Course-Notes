{
 "cells": [
  {
   "cell_type": "code",
   "execution_count": 1,
   "metadata": {},
   "outputs": [
    {
     "name": "stdout",
     "output_type": "stream",
     "text": [
      "11\n"
     ]
    }
   ],
   "source": [
    "a=5\n",
    "b=6\n",
    "c=a+b\n",
    "print(c)"
   ]
  },
  {
   "cell_type": "code",
   "execution_count": 2,
   "metadata": {},
   "outputs": [
    {
     "name": "stdout",
     "output_type": "stream",
     "text": [
      "hello world\n"
     ]
    }
   ],
   "source": [
    "print(\"hello world\")"
   ]
  },
  {
   "cell_type": "code",
   "execution_count": 6,
   "metadata": {},
   "outputs": [
    {
     "name": "stdout",
     "output_type": "stream",
     "text": [
      "dört işlem\n",
      "sonuç: 18\n"
     ]
    }
   ],
   "source": [
    "print(\"dört işlem\")\n",
    "a=5\n",
    "b=6\n",
    "c=7\n",
    "d=a+b+c\n",
    "print(\"sonuç:\",d)"
   ]
  },
  {
   "cell_type": "code",
   "execution_count": 9,
   "metadata": {},
   "outputs": [
    {
     "name": "stdout",
     "output_type": "stream",
     "text": [
      "çoklu atama\n",
      "sonuç: 14\n"
     ]
    }
   ],
   "source": [
    "print(\"çoklu atama\")\n",
    "a,b,c = 2, 3, 4\n",
    "d=a+b*c\n",
    "print(\"sonuç:\",d)"
   ]
  },
  {
   "cell_type": "code",
   "execution_count": 12,
   "metadata": {},
   "outputs": [
    {
     "name": "stdout",
     "output_type": "stream",
     "text": [
      "1. sayıyı giriniz: 25\n"
     ]
    }
   ],
   "source": [
    "# 6 = b diyemezsin, hata verir.\n",
    "sayi1=input(\"1. sayıyı giriniz: \")\n"
   ]
  },
  {
   "cell_type": "code",
   "execution_count": 14,
   "metadata": {},
   "outputs": [
    {
     "name": "stdout",
     "output_type": "stream",
     "text": [
      "1. sayıyı giriniz: 25\n",
      "Bir şehir giriniz: Bursa\n"
     ]
    }
   ],
   "source": [
    "sayi1=int(input(\"1. sayıyı giriniz: \"))\n",
    "sehir= input(\"Bir şehir giriniz: \")\n"
   ]
  },
  {
   "cell_type": "code",
   "execution_count": 20,
   "metadata": {},
   "outputs": [
    {
     "name": "stdout",
     "output_type": "stream",
     "text": [
      "1. sayıyı giriniz: 12\n",
      "2. sayıyı giriniz: 21\n",
      "Ortalama: 16.5\n"
     ]
    }
   ],
   "source": [
    "# int: sayı, str: metin, double: virgüllü sayı\n",
    "\n",
    "sayi1=int(input(\"1. sayıyı giriniz: \"))\n",
    "sayi2=int(input(\"2. sayıyı giriniz: \"))\n",
    "\n",
    "ort=(sayi1+sayi2)/2\n",
    "\n",
    "print(\"Ortalama:\", ort)\n"
   ]
  },
  {
   "cell_type": "code",
   "execution_count": 23,
   "metadata": {},
   "outputs": [
    {
     "name": "stdout",
     "output_type": "stream",
     "text": [
      "--------------------------------------------------\n"
     ]
    }
   ],
   "source": [
    "print(50*\"-\") "
   ]
  },
  {
   "cell_type": "code",
   "execution_count": 26,
   "metadata": {},
   "outputs": [
    {
     "name": "stdout",
     "output_type": "stream",
     "text": [
      "T.B.M.M."
     ]
    }
   ],
   "source": [
    "print(\"T\",\"B\", \"M\", \"M\", sep=\".\",end=\".\")"
   ]
  }
 ],
 "metadata": {
  "kernelspec": {
   "display_name": "Python 3",
   "language": "python",
   "name": "python3"
  },
  "language_info": {
   "codemirror_mode": {
    "name": "ipython",
    "version": 3
   },
   "file_extension": ".py",
   "mimetype": "text/x-python",
   "name": "python",
   "nbconvert_exporter": "python",
   "pygments_lexer": "ipython3",
   "version": "3.8.5"
  }
 },
 "nbformat": 4,
 "nbformat_minor": 4
}
