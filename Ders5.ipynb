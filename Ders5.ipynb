{
 "cells": [
  {
   "cell_type": "markdown",
   "metadata": {},
   "source": [
    "# Global Alan ve Local Alan"
   ]
  },
  {
   "cell_type": "code",
   "execution_count": 1,
   "metadata": {
    "scrolled": true
   },
   "outputs": [
    {
     "name": "stdout",
     "output_type": "stream",
     "text": [
      "5\n"
     ]
    }
   ],
   "source": [
    "#Global alan\n",
    "b=5\n",
    "def fonksiyon():\n",
    "    print(b)\n",
    "    #Local alan\n",
    "#Global alan\n",
    "fonksiyon()\n",
    "#parantez fonksiyon olduğunu söyler"
   ]
  },
  {
   "cell_type": "markdown",
   "metadata": {},
   "source": [
    "# Return"
   ]
  },
  {
   "cell_type": "code",
   "execution_count": 4,
   "metadata": {},
   "outputs": [
    {
     "name": "stdout",
     "output_type": "stream",
     "text": [
      "1. sayı:2\n",
      "2. sayı:3\n",
      "3. sayı:4\n",
      "18\n"
     ]
    }
   ],
   "source": [
    "def toplama(a,b,c):\n",
    "    a=int(input(\"1. sayı:\"))\n",
    "    b=int(input(\"2. sayı:\"))\n",
    "    c=int(input(\"3. sayı:\"))\n",
    "    return a+b+c\n",
    "def ikiylecarp(a):\n",
    "    return a*2\n",
    "toplam=toplama(4,5,6)\n",
    "print(ikiylecarp(toplam))"
   ]
  },
  {
   "cell_type": "code",
   "execution_count": 16,
   "metadata": {},
   "outputs": [
    {
     "name": "stdout",
     "output_type": "stream",
     "text": [
      "1. sayı:1\n",
      "2. sayı:2\n",
      "3. sayı:3\n",
      "6\n"
     ]
    }
   ],
   "source": [
    "a=int(input(\"1. sayı:\"))\n",
    "b=int(input(\"2. sayı:\"))\n",
    "c=int(input(\"3. sayı:\"))\n",
    "\n",
    "def toplama(a,b,c):\n",
    "    return a+b+c\n",
    "\n",
    "print(toplama(a,b,c))"
   ]
  },
  {
   "cell_type": "markdown",
   "metadata": {},
   "source": [
    "# Modüller"
   ]
  },
  {
   "cell_type": "code",
   "execution_count": 24,
   "metadata": {},
   "outputs": [
    {
     "name": "stdout",
     "output_type": "stream",
     "text": [
      "Bir sayı tahmin ediniz (0 ile 5 arasında): 2\n",
      "Tahmin yanlış :(\n",
      "Sayı 4\n"
     ]
    }
   ],
   "source": [
    "import random\n",
    "rastgelesayi=random.randint(0,5)  #0 ve 5 dahil\n",
    "\n",
    "sayi=int(input(\"Bir sayı tahmin ediniz (0 ile 5 arasında): \"))\n",
    "\n",
    "if sayi==rastgelesayi:\n",
    "    print(\"Tahmin doğru :)\")\n",
    "else:\n",
    "    print(\"Tahmin yanlış :(\")\n",
    "print(\"Sayı {}\".format(rastgelesayi))"
   ]
  },
  {
   "cell_type": "code",
   "execution_count": 29,
   "metadata": {},
   "outputs": [
    {
     "name": "stdout",
     "output_type": "stream",
     "text": [
      "Bir sayı tahmin ediniz (0 ile 5 arasında): 0\n",
      "Bilemediniz tekrar tahmin ediniz (0 ile 5 arasında): 1\n",
      "Bilemediniz tekrar tahmin ediniz (0 ile 5 arasında): 2\n",
      "Sayı 2 doğru bildiniz\n"
     ]
    }
   ],
   "source": [
    "import random\n",
    "rastgelesayi=random.randint(0,5)  #0 ve 5 dahil\n",
    "sayi=int(input(\"Bir sayı tahmin ediniz (0 ile 5 arasında): \"))\n",
    "\n",
    "if sayi!=rastgelesayi:\n",
    "    while sayi!=rastgelesayi:\n",
    "        sayi=int(input(\"Bilemediniz tekrar tahmin ediniz (0 ile 5 arasında): \"))\n",
    "\n",
    "print(\"Sayı\",rastgelesayi, \"doğru bildiniz\")\n"
   ]
  },
  {
   "cell_type": "markdown",
   "metadata": {},
   "source": [
    "# Sayısal Loto"
   ]
  },
  {
   "cell_type": "code",
   "execution_count": 2,
   "metadata": {},
   "outputs": [
    {
     "name": "stdout",
     "output_type": "stream",
     "text": [
      "Bir sayı tahmin ediniz (0 ile 5 arasında): 1\n",
      "Bir sayı tahmin ediniz (0 ile 5 arasında): 2\n",
      "Bir sayı tahmin ediniz (0 ile 5 arasında): 3\n",
      "Bir sayı tahmin ediniz (0 ile 5 arasında): 4\n",
      "Bir sayı tahmin ediniz (0 ile 5 arasında): 5\n",
      "Bir sayı tahmin ediniz (0 ile 5 arasında): 6\n",
      "2\n",
      "1\n",
      "3\n",
      "5\n",
      "0\n",
      "0\n",
      "10 ₺ kazandınız.\n"
     ]
    }
   ],
   "source": [
    "import random\n",
    "a=0\n",
    "rastgelesayi1=random.randint(0,5)\n",
    "rastgelesayi2=random.randint(0,5)\n",
    "rastgelesayi3=random.randint(0,5)\n",
    "rastgelesayi4=random.randint(0,5)\n",
    "rastgelesayi5=random.randint(0,5)\n",
    "rastgelesayi6=random.randint(0,5)\n",
    "\n",
    "sayi1=int(input(\"Bir sayı tahmin ediniz (0 ile 5 arasında): \"))\n",
    "sayi2=int(input(\"Bir sayı tahmin ediniz (0 ile 5 arasında): \"))\n",
    "sayi3=int(input(\"Bir sayı tahmin ediniz (0 ile 5 arasında): \"))\n",
    "sayi4=int(input(\"Bir sayı tahmin ediniz (0 ile 5 arasında): \"))\n",
    "sayi5=int(input(\"Bir sayı tahmin ediniz (0 ile 5 arasında): \"))\n",
    "sayi6=int(input(\"Bir sayı tahmin ediniz (0 ile 5 arasında): \"))\n",
    "\n",
    "if sayi1==rastgelesayi1:\n",
    "    a+=1\n",
    "if sayi2==rastgelesayi2:\n",
    "    a+=1\n",
    "if sayi3==rastgelesayi3:\n",
    "    a+=1\n",
    "if sayi4==rastgelesayi4:\n",
    "    a+=1\n",
    "if sayi5==rastgelesayi5:\n",
    "    a+=1\n",
    "if sayi6==rastgelesayi6:\n",
    "    a+=1\n",
    " \n",
    "print(rastgelesayi1)\n",
    "print(rastgelesayi2)\n",
    "print(rastgelesayi3)\n",
    "print(rastgelesayi4)\n",
    "print(rastgelesayi5)\n",
    "print(rastgelesayi6)\n",
    "print(a*10, \"₺ kazandınız.\")\n"
   ]
  },
  {
   "cell_type": "markdown",
   "metadata": {},
   "source": [
    "# Kısa Yoldan Sayısal Loto"
   ]
  },
  {
   "cell_type": "code",
   "execution_count": 9,
   "metadata": {},
   "outputs": [
    {
     "name": "stdout",
     "output_type": "stream",
     "text": [
      "Bir sayı tahmin ediniz(0 ile 5 arasında):1\n",
      "Bir sayı tahmin ediniz(0 ile 5 arasında):2\n",
      "Bir sayı tahmin ediniz(0 ile 5 arasında):3\n",
      "Bir sayı tahmin ediniz(0 ile 5 arasında):4\n",
      "Bir sayı tahmin ediniz(0 ile 5 arasında):3\n",
      "Bir sayı tahmin ediniz(0 ile 5 arasında):2\n",
      "[2, 4, 2, 0, 0, 3]\n",
      "0 ₺ kazandınız.\n"
     ]
    }
   ],
   "source": [
    "import random\n",
    "a=0\n",
    "b=[]\n",
    "c=[]\n",
    "for i in range(1,7):\n",
    "    b.append(random.randint(0,5))\n",
    "for j in range(1,7):\n",
    "    c.append(int(input(\"Bir sayı tahmin ediniz(0 ile 5 arasında):\")))\n",
    "print(b)\n",
    "\n",
    "if b[0]==c[0]:\n",
    "    a+=1\n",
    "if b[1]==c[1]:\n",
    "    a+=1\n",
    "if b[2]==c[2]:\n",
    "    a+=1\n",
    "if b[3]==c[3]:\n",
    "    a+=1\n",
    "if b[4]==c[4]:\n",
    "    a+=1\n",
    "if b[5]==c[5]:\n",
    "    a+=1\n",
    "print(a*10,\"₺ kazandınız.\")"
   ]
  },
  {
   "cell_type": "markdown",
   "metadata": {},
   "source": [
    "# Sayı Oyunu"
   ]
  },
  {
   "cell_type": "code",
   "execution_count": 12,
   "metadata": {},
   "outputs": [
    {
     "name": "stdout",
     "output_type": "stream",
     "text": [
      "Bir sayı tahmin ediniz(0 ile 5 arasında):2\n",
      "Daha büyük bir sayı giriniz.\n",
      "Bir sayı tahmin ediniz(0 ile 5 arasında):3\n",
      "Daha büyük bir sayı giriniz.\n",
      "Bir sayı tahmin ediniz(0 ile 5 arasında):4\n",
      "Tebrikler!\n"
     ]
    }
   ],
   "source": [
    "import random\n",
    "rastgelesayi=random.randint(1,5)\n",
    "\n",
    "while True:\n",
    "    sayi=int(input(\"Bir sayı tahmin ediniz(0 ile 5 arasında):\"))\n",
    "    if sayi==0:\n",
    "        print(\"Oyundan çıkış yapınız\")\n",
    "        break\n",
    "    elif(sayi<rastgelesayi):\n",
    "        print(\"Daha büyük bir sayı giriniz.\")\n",
    "        continue\n",
    "    elif(sayi>rastgelesayi):\n",
    "        print(\"Daha küçük bir sayı giriniz.\")\n",
    "        continue\n",
    "    else:\n",
    "        print(\"Tebrikler!\")\n",
    "        break\n",
    "        "
   ]
  },
  {
   "cell_type": "markdown",
   "metadata": {},
   "source": [
    "# Sayı Örneği"
   ]
  },
  {
   "cell_type": "code",
   "execution_count": 19,
   "metadata": {},
   "outputs": [
    {
     "name": "stdout",
     "output_type": "stream",
     "text": [
      "Başlangıç sayısı giriniz:1\n",
      "Bitiş sayısı giriniz:5\n",
      "Başlangıç Sayısı: 1\n",
      "Bitiş Sayısı: 5\n",
      "Girilen sayı adeti: 4\n",
      "Girilen sayı aralığı toplamı: 10\n",
      "Girilen sayı aralığı ortalaması: 2.5\n"
     ]
    }
   ],
   "source": [
    "toplam=0\n",
    "sayac=0\n",
    "\n",
    "baslangic=int(input(\"Başlangıç sayısı giriniz:\"))\n",
    "bitis=int(input(\"Bitiş sayısı giriniz:\"))\n",
    "\n",
    "for sayi in range(baslangic,bitis):\n",
    "    toplam=toplam+sayi\n",
    "    sayac=sayac+1\n",
    "\n",
    "print(\"Başlangıç Sayısı:\",baslangic)\n",
    "print(\"Bitiş Sayısı:\",bitis)\n",
    "print(\"Girilen sayı adeti:\",sayac)\n",
    "print(\"Girilen sayı aralığı toplamı:\",toplam)\n",
    "print(\"Girilen sayı aralığı ortalaması:\",toplam/sayac)\n"
   ]
  },
  {
   "cell_type": "markdown",
   "metadata": {},
   "source": [
    "# Sayısal Loto"
   ]
  },
  {
   "cell_type": "code",
   "execution_count": 2,
   "metadata": {},
   "outputs": [
    {
     "name": "stdout",
     "output_type": "stream",
     "text": [
      "Bir sayı tahmin ediniz(0 ile 5 arasında):1\n",
      "Bir sayı tahmin ediniz(0 ile 5 arasında):2\n",
      "Bir sayı tahmin ediniz(0 ile 5 arasında):3\n",
      "Bir sayı tahmin ediniz(0 ile 5 arasında):4\n",
      "Bir sayı tahmin ediniz(0 ile 5 arasında):5\n",
      "Bir sayı tahmin ediniz(0 ile 5 arasında):6\n",
      "[1, 2, 1, 4, 5, 1]\n",
      "40 ₺ kazandınız.\n"
     ]
    }
   ],
   "source": [
    "import random\n",
    "a=0\n",
    "b=[]\n",
    "c=[]\n",
    "for i in range(1,7):\n",
    "    b.append(random.randint(0,5))\n",
    "for j in range(1,7):\n",
    "    c.append(int(input(\"Bir sayı tahmin ediniz(0 ile 5 arasında):\")))\n",
    "print(b)\n",
    "for k in range(0,6):\n",
    "    if b[k]==c[k]:\n",
    "        a+=1\n",
    "print(a*10,\"₺ kazandınız.\")"
   ]
  }
 ],
 "metadata": {
  "kernelspec": {
   "display_name": "Python 3",
   "language": "python",
   "name": "python3"
  },
  "language_info": {
   "codemirror_mode": {
    "name": "ipython",
    "version": 3
   },
   "file_extension": ".py",
   "mimetype": "text/x-python",
   "name": "python",
   "nbconvert_exporter": "python",
   "pygments_lexer": "ipython3",
   "version": "3.8.5"
  }
 },
 "nbformat": 4,
 "nbformat_minor": 4
}
